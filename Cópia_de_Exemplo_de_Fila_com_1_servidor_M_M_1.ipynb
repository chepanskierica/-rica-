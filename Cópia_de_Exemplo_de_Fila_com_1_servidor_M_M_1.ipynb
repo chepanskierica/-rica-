{
  "nbformat": 4,
  "nbformat_minor": 0,
  "metadata": {
    "colab": {
      "name": "Cópia de Exemplo de Fila com 1 servidor M/M/1",
      "provenance": [],
      "toc_visible": true,
      "include_colab_link": true
    },
    "kernelspec": {
      "name": "python3",
      "display_name": "Python 3"
    }
  },
  "cells": [
    {
      "cell_type": "markdown",
      "metadata": {
        "id": "view-in-github",
        "colab_type": "text"
      },
      "source": [
        "<a href=\"https://colab.research.google.com/github/chepanskierica/-rica-/blob/main/C%C3%B3pia_de_Exemplo_de_Fila_com_1_servidor_M_M_1.ipynb\" target=\"_parent\"><img src=\"https://colab.research.google.com/assets/colab-badge.svg\" alt=\"Open In Colab\"/></a>"
      ]
    },
    {
      "cell_type": "code",
      "metadata": {
        "id": "u3s_PxTxLNcs"
      },
      "source": [
        ""
      ],
      "execution_count": null,
      "outputs": []
    },
    {
      "cell_type": "markdown",
      "metadata": {
        "id": "RGaXmhEcLORl"
      },
      "source": [
        "# Exemplo de Fila com 1 servidor M/M/1"
      ]
    },
    {
      "cell_type": "code",
      "metadata": {
        "id": "iXIdOUFQLSDL"
      },
      "source": [
        "TA=3/24; # Tempo médio de processamento\n"
      ],
      "execution_count": null,
      "outputs": []
    },
    {
      "cell_type": "code",
      "metadata": {
        "id": "Jw5PIhS3LUmc"
      },
      "source": [
        "landa= 6; # taxa de chegada de navios;"
      ],
      "execution_count": null,
      "outputs": []
    },
    {
      "cell_type": "code",
      "metadata": {
        "id": "1YrfMFpwLsWK"
      },
      "source": [
        "mi=1/TA; # taxa de processamento de navios por hora;"
      ],
      "execution_count": null,
      "outputs": []
    },
    {
      "cell_type": "code",
      "metadata": {
        "id": "QtVvvjBtL4GU"
      },
      "source": [
        "n=0;"
      ],
      "execution_count": null,
      "outputs": []
    },
    {
      "cell_type": "code",
      "metadata": {
        "id": "8R_ffeG4Mk69"
      },
      "source": [
        "Pn=((1-landa/mi)*(landa/mi)**n)*100; #Probabilidade de existirem número de clientes no sistema\n",
        " "
      ],
      "execution_count": null,
      "outputs": []
    },
    {
      "cell_type": "code",
      "metadata": {
        "id": "SLLkHIrYNI-1"
      },
      "source": [
        "NF=(landa**2)/(mi*(mi-landa));# Número médio de navios na fila\n",
        " \n"
      ],
      "execution_count": null,
      "outputs": []
    },
    {
      "cell_type": "code",
      "metadata": {
        "id": "4NCXBg1tNTuT"
      },
      "source": [
        "NS=landa/(mi-landa); # Número média de navios no sistema\n",
        " "
      ],
      "execution_count": null,
      "outputs": []
    },
    {
      "cell_type": "code",
      "metadata": {
        "id": "_JLL4u0uNc2p"
      },
      "source": [
        "TS= 1/(mi-landa);# Tempo médio durante o qual o cliente dica no sitema\n"
      ],
      "execution_count": null,
      "outputs": []
    },
    {
      "cell_type": "code",
      "metadata": {
        "id": "ZVIRqCG1NnSm"
      },
      "source": [
        "TF=landa/(mi*(mi-landa)); # Tempo médio durante o qual o cliente fica na fila\n",
        " "
      ],
      "execution_count": null,
      "outputs": []
    },
    {
      "cell_type": "markdown",
      "metadata": {
        "id": "MWu-tmnbN_CC"
      },
      "source": [
        "## Respostas ao problema"
      ]
    },
    {
      "cell_type": "code",
      "metadata": {
        "id": "pKdn9iRvN-GP"
      },
      "source": [
        "# a) Qual é a probabilidade de um navio chegar ao porto e não esperar para atracar?\n",
        " "
      ],
      "execution_count": null,
      "outputs": []
    },
    {
      "cell_type": "code",
      "metadata": {
        "id": "LntmBOpEOyVU",
        "outputId": "77c9e07d-17af-4850-ddec-59704e812fed",
        "colab": {
          "base_uri": "https://localhost:8080/",
          "height": 34
        }
      },
      "source": [
        "print('O número de peças na fila é de {0:.3f} peças'.format(NF))"
      ],
      "execution_count": null,
      "outputs": [
        {
          "output_type": "stream",
          "text": [
            "O número de peças na fila é de 2.250 peças\n"
          ],
          "name": "stdout"
        }
      ]
    },
    {
      "cell_type": "code",
      "metadata": {
        "id": "rSOvm-ahO1TK"
      },
      "source": [
        "#b) Qual é a quantidade média de navios na fila do porto?"
      ],
      "execution_count": null,
      "outputs": []
    },
    {
      "cell_type": "code",
      "metadata": {
        "id": "WWjKuHz3O_sj",
        "outputId": "1e9b7ed0-0d33-49c6-e61c-15c7f7ac4727",
        "colab": {
          "base_uri": "https://localhost:8080/",
          "height": 50
        }
      },
      "source": [
        "print(' A quantidade média de navios na fila do porto é de  %.f navios \\n',NF)\n",
        " \n"
      ],
      "execution_count": null,
      "outputs": [
        {
          "output_type": "stream",
          "text": [
            " A quantidade média de navios na fila do porto é de  %.f navios \n",
            " 2.25\n"
          ],
          "name": "stdout"
        }
      ]
    },
    {
      "cell_type": "code",
      "metadata": {
        "id": "96P5N4zmPD6G"
      },
      "source": [
        "#c) Qual é a quantidade média de navios no sistema portuário ?\n",
        " "
      ],
      "execution_count": null,
      "outputs": []
    },
    {
      "cell_type": "code",
      "metadata": {
        "id": "gxIODq7hPfTF",
        "outputId": "ebe360ff-560c-4d86-9c8f-ce1fed1f07b3",
        "colab": {
          "base_uri": "https://localhost:8080/",
          "height": 50
        }
      },
      "source": [
        "print(' A quantidade média de navios no sistema portuário é de %.2f navios \\n',NS)\n",
        "\n"
      ],
      "execution_count": null,
      "outputs": [
        {
          "output_type": "stream",
          "text": [
            " A quantidade média de navios no sistema portuário é de %.2f navios \n",
            " 3.0\n"
          ],
          "name": "stdout"
        }
      ]
    },
    {
      "cell_type": "code",
      "metadata": {
        "id": "jw-dUySiPjmp"
      },
      "source": [
        "#d) Qual é a quantidade média de navios utilizando oporto?\n",
        " "
      ],
      "execution_count": null,
      "outputs": []
    },
    {
      "cell_type": "code",
      "metadata": {
        "id": "W6dP0hG9PoiK"
      },
      "source": [
        "NP=NS-NF;\n"
      ],
      "execution_count": null,
      "outputs": []
    },
    {
      "cell_type": "code",
      "metadata": {
        "id": "7xHCGc5lPqum",
        "outputId": "15985c8f-1a15-487a-8f03-f7954f7a125a",
        "colab": {
          "base_uri": "https://localhost:8080/",
          "height": 50
        }
      },
      "source": [
        "print(' A quantidade de navios utilizando o porto é %.2f navios \\n',NP)\n"
      ],
      "execution_count": null,
      "outputs": [
        {
          "output_type": "stream",
          "text": [
            " A quantidade de navios utilizando o porto é %.2f navios \n",
            " 0.75\n"
          ],
          "name": "stdout"
        }
      ]
    },
    {
      "cell_type": "code",
      "metadata": {
        "id": "zAWgDM41Pun3"
      },
      "source": [
        ""
      ],
      "execution_count": null,
      "outputs": []
    }
  ]
}
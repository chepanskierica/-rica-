{
  "nbformat": 4,
  "nbformat_minor": 0,
  "metadata": {
    "colab": {
      "name": "Cópia de Cópia de Aula de 16/10 estatisticas descritivas",
      "provenance": [],
      "authorship_tag": "ABX9TyOJEtr+O2O2M4l+mrbQ7BxD",
      "include_colab_link": true
    },
    "kernelspec": {
      "name": "python3",
      "display_name": "Python 3"
    }
  },
  "cells": [
    {
      "cell_type": "markdown",
      "metadata": {
        "id": "view-in-github",
        "colab_type": "text"
      },
      "source": [
        "<a href=\"https://colab.research.google.com/github/chepanskierica/-rica-/blob/main/C%C3%B3pia_de_C%C3%B3pia_de_Aula_de_16_10_estatisticas_descritivas.ipynb\" target=\"_parent\"><img src=\"https://colab.research.google.com/assets/colab-badge.svg\" alt=\"Open In Colab\"/></a>"
      ]
    },
    {
      "cell_type": "markdown",
      "metadata": {
        "id": "0JaeI5fA1nHh"
      },
      "source": [
        "Biblioteca"
      ]
    },
    {
      "cell_type": "code",
      "metadata": {
        "id": "AC9zcaj51UWp"
      },
      "source": [
        "import pandas as pd\n",
        "import matplotlib.pyplot as plt\n",
        "import numpy as np\n",
        "from scipy.stats import pearsonr"
      ],
      "execution_count": null,
      "outputs": []
    },
    {
      "cell_type": "markdown",
      "metadata": {
        "id": "gShd-UAzpBtQ"
      },
      "source": [
        "**Dados**"
      ]
    },
    {
      "cell_type": "code",
      "metadata": {
        "id": "kC7jIhiipD9p"
      },
      "source": [
        "dados=[53.0 ,70.2 ,84.3 ,69.5 ,77.8 ,87.5 ,53.4 ,82.5 ,67.3 ,54.1 ,70.5 ,71.4 ,95.4 ,51.1 ,74.4 ,55.7 ,63.5 ,85.8 ,53.5 ,64.3 ,82.7 ,78.5 ,55.7 ,69.1 ,72.3 ,59.5 ,55.3 ,73.0 ,52.4 ,50.7]"
      ],
      "execution_count": null,
      "outputs": []
    },
    {
      "cell_type": "markdown",
      "metadata": {
        "id": "v9qzaNU2pLp_"
      },
      "source": [
        "Media"
      ]
    },
    {
      "cell_type": "code",
      "metadata": {
        "id": "SEHGksYfpMzu",
        "outputId": "8d9e3dcd-e44b-4341-9f99-ee11ca5540b1",
        "colab": {
          "base_uri": "https://localhost:8080/",
          "height": 34
        }
      },
      "source": [
        "pd.Series(dados).mean()"
      ],
      "execution_count": null,
      "outputs": [
        {
          "output_type": "execute_result",
          "data": {
            "text/plain": [
              "67.81333333333333"
            ]
          },
          "metadata": {
            "tags": []
          },
          "execution_count": 32
        }
      ]
    },
    {
      "cell_type": "markdown",
      "metadata": {
        "id": "dH9iP_CLqB0i"
      },
      "source": [
        "A Mediana"
      ]
    },
    {
      "cell_type": "code",
      "metadata": {
        "id": "ekQrQ6UpqRsc",
        "outputId": "6016f280-945b-4a8d-f89a-d6c3045e477a",
        "colab": {
          "base_uri": "https://localhost:8080/",
          "height": 34
        }
      },
      "source": [
        "pd.Series(dados).median()"
      ],
      "execution_count": null,
      "outputs": [
        {
          "output_type": "execute_result",
          "data": {
            "text/plain": [
              "69.3"
            ]
          },
          "metadata": {
            "tags": []
          },
          "execution_count": 33
        }
      ]
    },
    {
      "cell_type": "code",
      "metadata": {
        "id": "dppdd_cgq5PN"
      },
      "source": [
        ""
      ],
      "execution_count": null,
      "outputs": []
    },
    {
      "cell_type": "markdown",
      "metadata": {
        "id": "_DAOVx0arSw4"
      },
      "source": [
        "desvio padrão"
      ]
    },
    {
      "cell_type": "code",
      "metadata": {
        "id": "DGqjFkOQrB6o",
        "outputId": "cb1b92ef-ebad-4aa5-909c-ad11e9860851",
        "colab": {
          "base_uri": "https://localhost:8080/",
          "height": 34
        }
      },
      "source": [
        "pd.Series(dados).std()"
      ],
      "execution_count": null,
      "outputs": [
        {
          "output_type": "execute_result",
          "data": {
            "text/plain": [
              "12.72536791239244"
            ]
          },
          "metadata": {
            "tags": []
          },
          "execution_count": 34
        }
      ]
    },
    {
      "cell_type": "code",
      "metadata": {
        "id": "_HEXrH0orWhd",
        "outputId": "3439dcc2-4d6f-4dc5-dd61-dc4860d21f79",
        "colab": {
          "base_uri": "https://localhost:8080/",
          "height": 50
        }
      },
      "source": [
        "pd.Series(dados).mode()"
      ],
      "execution_count": null,
      "outputs": [
        {
          "output_type": "execute_result",
          "data": {
            "text/plain": [
              "0    55.7\n",
              "dtype: float64"
            ]
          },
          "metadata": {
            "tags": []
          },
          "execution_count": 35
        }
      ]
    },
    {
      "cell_type": "markdown",
      "metadata": {
        "id": "W2iM-elrrmdQ"
      },
      "source": [
        "A Variância"
      ]
    },
    {
      "cell_type": "code",
      "metadata": {
        "id": "fLk00722rqRj",
        "outputId": "62b3f2df-abf9-4767-ea64-20f5065c378c",
        "colab": {
          "base_uri": "https://localhost:8080/",
          "height": 34
        }
      },
      "source": [
        "pd.Series(dados).var()"
      ],
      "execution_count": null,
      "outputs": [
        {
          "output_type": "execute_result",
          "data": {
            "text/plain": [
              "161.93498850574713"
            ]
          },
          "metadata": {
            "tags": []
          },
          "execution_count": 36
        }
      ]
    },
    {
      "cell_type": "markdown",
      "metadata": {
        "id": "Xurira-Mr6d4"
      },
      "source": [
        "Resumo"
      ]
    },
    {
      "cell_type": "code",
      "metadata": {
        "id": "QZp-ZLrzsMV2",
        "outputId": "346d351b-09f6-4d53-ebf6-1985e2a0c8dc",
        "colab": {
          "base_uri": "https://localhost:8080/",
          "height": 168
        }
      },
      "source": [
        "pd.Series(dados).describe()"
      ],
      "execution_count": null,
      "outputs": [
        {
          "output_type": "execute_result",
          "data": {
            "text/plain": [
              "count    30.000000\n",
              "mean     67.813333\n",
              "std      12.725368\n",
              "min      50.700000\n",
              "25%      55.400000\n",
              "50%      69.300000\n",
              "75%      76.950000\n",
              "max      95.400000\n",
              "dtype: float64"
            ]
          },
          "metadata": {
            "tags": []
          },
          "execution_count": 37
        }
      ]
    },
    {
      "cell_type": "code",
      "metadata": {
        "id": "ZjyIRhGXsVDa"
      },
      "source": [
        ""
      ],
      "execution_count": null,
      "outputs": []
    },
    {
      "cell_type": "markdown",
      "metadata": {
        "id": "H51-I23Zshux"
      },
      "source": [
        "BoxPlot"
      ]
    },
    {
      "cell_type": "code",
      "metadata": {
        "id": "jOUwjeDxsljk",
        "outputId": "04096767-bdbd-4a1a-8791-50a13731371c",
        "colab": {
          "base_uri": "https://localhost:8080/",
          "height": 350
        }
      },
      "source": [
        "fig, ax = plt.subplots(figsize=(5,5))\n",
        "ax.set_title('Boxplot das peças fabricadas')\n",
        "ax.boxplot(dados);\n",
        "ax.set_xlabel('dados');"
      ],
      "execution_count": null,
      "outputs": [
        {
          "output_type": "display_data",
          "data": {
            "image/png": "[encoded data removed]",
            "text/plain": [
              "<Figure size 360x360 with 1 Axes>"
            ]
          },
          "metadata": {
            "tags": [],
            "needs_background": "light"
          }
        }
      ]
    },
    {
      "cell_type": "code",
      "metadata": {
        "id": "8ih3Li7usseJ",
        "outputId": "d44e07de-458c-4861-d230-7f59b5ede91a",
        "colab": {
          "base_uri": "https://localhost:8080/",
          "height": 621
        }
      },
      "source": [
        "fig, ax = plt.subplots(1, 1, figsize=(10, 10))\n",
        "plt.hist(dados,edgecolor='k')\n",
        "Titulo='Histograma'\n",
        "RotuloY='Frequencia de ocorrência das peças'\n",
        "RotuloX='Classes'\n",
        "ax.set_title(Titulo)\n",
        "ax.set_ylabel(RotuloY)\n",
        "ax.set_xlabel(RotuloX)\n",
        "\n",
        "plt.show()\n",
        "\n"
      ],
      "execution_count": null,
      "outputs": [
        {
          "output_type": "display_data",
          "data": {
            "image/png": "[encoded data removed]",
            "text/plain": [
              "<Figure size 720x720 with 1 Axes>"
            ]
          },
          "metadata": {
            "tags": [],
            "needs_background": "light"
          }
        }
      ]
    },
    {
      "cell_type": "markdown",
      "metadata": {
        "id": "ZBi-S0e8z6sn"
      },
      "source": [
        "**Horas** **de** **estudos** e **notas** **negrito**"
      ]
    },
    {
      "cell_type": "code",
      "metadata": {
        "id": "HJYXoGuvv_bv",
        "outputId": "056d8524-e348-466e-cff8-83fa4455dec7",
        "colab": {
          "base_uri": "https://localhost:8080/",
          "height": 295
        }
      },
      "source": [
        "#matriz com os dados de horas de estudo\n",
        "horasEstudo=[20,12,14,15,18,9,5,4,8,13,14,15,19,18,12,11,10,15,17,20]\n",
        "#matriz com os dados notas\n",
        "Notas=[9.5,2.5,3.6,6.7,5.2,1,0,1.5,2,3,3.5,4.5,8.5,7.5,5,4,3,5,6.5,10]\n",
        "\n",
        "#### gráfico\n",
        "#plt.figure(figsize=(12, 8))\n",
        "plt.title('Correlação entre horas de estudo e notas')\n",
        "plt.xlabel('Horas de Estudo')\n",
        "plt.ylabel('Notas')\n",
        "#correlação que será analisada\n",
        "plt.scatter(horasEstudo, Notas)\n",
        "plt.show()"
      ],
      "execution_count": null,
      "outputs": [
        {
          "output_type": "display_data",
          "data": {
            "image/png": "[encoded data removed]",
            "text/plain": [
              "<Figure size 432x288 with 1 Axes>"
            ]
          },
          "metadata": {
            "tags": [],
            "needs_background": "light"
          }
        }
      ]
    },
    {
      "cell_type": "code",
      "metadata": {
        "id": "UgCrm0Ra014C"
      },
      "source": [
        "r = np.corrcoef(horasEstudo,Notas)"
      ],
      "execution_count": null,
      "outputs": []
    },
    {
      "cell_type": "code",
      "metadata": {
        "id": "W7Wi9SOQ06xy",
        "outputId": "a62e9c67-b12c-4da2-da32-823217f0df6a",
        "colab": {
          "base_uri": "https://localhost:8080/",
          "height": 50
        }
      },
      "source": [
        "r"
      ],
      "execution_count": null,
      "outputs": [
        {
          "output_type": "execute_result",
          "data": {
            "text/plain": [
              "array([[1.        , 0.90348787],\n",
              "       [0.90348787, 1.        ]])"
            ]
          },
          "metadata": {
            "tags": []
          },
          "execution_count": 51
        }
      ]
    },
    {
      "cell_type": "code",
      "metadata": {
        "id": "JHo5cdcq0_Je",
        "outputId": "192c645b-60ca-4d94-c341-b6d924aa1f2b",
        "colab": {
          "base_uri": "https://localhost:8080/",
          "height": 34
        }
      },
      "source": [
        "corr,_= pearsonr(horasEstudo,Notas) \n",
        "corr"
      ],
      "execution_count": null,
      "outputs": [
        {
          "output_type": "execute_result",
          "data": {
            "text/plain": [
              "0.9034878716397753"
            ]
          },
          "metadata": {
            "tags": []
          },
          "execution_count": 47
        }
      ]
    },
    {
      "cell_type": "code",
      "metadata": {
        "id": "9bIBRfWw0_7c"
      },
      "source": [
        ""
      ],
      "execution_count": null,
      "outputs": []
    }
  ]
}
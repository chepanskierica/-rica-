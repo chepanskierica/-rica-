{
  "nbformat": 4,
  "nbformat_minor": 0,
  "metadata": {
    "colab": {
      "name": "Cópia de Filas Navio",
      "provenance": [],
      "include_colab_link": true
    },
    "kernelspec": {
      "name": "python3",
      "display_name": "Python 3"
    }
  },
  "cells": [
    {
      "cell_type": "markdown",
      "metadata": {
        "id": "view-in-github",
        "colab_type": "text"
      },
      "source": [
        "<a href=\"https://colab.research.google.com/github/chepanskierica/-rica-/blob/main/C%C3%B3pia_de_Filas_Navio.ipynb\" target=\"_parent\"><img src=\"https://colab.research.google.com/assets/colab-badge.svg\" alt=\"Open In Colab\"/></a>"
      ]
    },
    {
      "cell_type": "markdown",
      "metadata": {
        "id": "clXQn1ylSKK2"
      },
      "source": [
        "## Modelamento do Problema"
      ]
    },
    {
      "cell_type": "code",
      "metadata": {
        "id": "wDvVQFVoSMs6"
      },
      "source": [
        "TA=3/24; # Tempo médio de processamento\n",
        "landa= 6; #taxa de chegada de navios; \n",
        "mi=1/TA; # taxa de processamento de navios por hora;\n",
        "n=0;\n",
        "Pn=((1-landa/mi)*(landa/mi)**n)*100; #Probabilidade deexisterem n clientes no sistema;\n",
        "NF=(landa^2)/(mi*(mi-landa));# Número médio de naviosna fila;\n",
        "NS=landa/(mi-landa); # Número média de navios no sistema ;\n",
        "TS= 1/(mi-landa); # Tempo médio durante o qual o clientefica no sistemafica no sistema;\n",
        "TF=landa/(mi*(mi-landa)); # Tempo médio durante o qual o cliente fica na fila;"
      ],
      "execution_count": null,
      "outputs": []
    },
    {
      "cell_type": "code",
      "metadata": {
        "id": "HRGT5NZXTS2w"
      },
      "source": [
        ""
      ],
      "execution_count": null,
      "outputs": []
    },
    {
      "cell_type": "markdown",
      "metadata": {
        "id": "Rn9-LJYeTfCO"
      },
      "source": [
        "## Respostas ao problema"
      ]
    },
    {
      "cell_type": "code",
      "metadata": {
        "id": "drEpfupcTiaD"
      },
      "source": [
        "# a) Qual é a probabilidade de um navio chegar ao porto e não esperar para atracar?\n"
      ],
      "execution_count": null,
      "outputs": []
    },
    {
      "cell_type": "code",
      "metadata": {
        "id": "rMVAqQGcTphy",
        "outputId": "2c8eaa21-f0df-44d9-abc3-c6e88514a2b2",
        "colab": {
          "base_uri": "https://localhost:8080/",
          "height": 50
        }
      },
      "source": [
        "print(' A probabilidade de um navio chegar ao porto e não esperar para atracar é %.2f%%\\n',Pn)\n"
      ],
      "execution_count": null,
      "outputs": [
        {
          "output_type": "stream",
          "text": [
            " A probabilidade de um navio chegar ao porto e não esperar para atracar é %.2f%%\n",
            " 25.0\n"
          ],
          "name": "stdout"
        }
      ]
    },
    {
      "cell_type": "code",
      "metadata": {
        "id": "IrYZLcZ1TuPQ"
      },
      "source": [
        "#b) Qual é a quantidade média de navios na fila do porto?"
      ],
      "execution_count": null,
      "outputs": []
    },
    {
      "cell_type": "code",
      "metadata": {
        "id": "rGAB6lJyTypG",
        "outputId": "2f7dd467-7cc2-406b-dbd8-403132b84134",
        "colab": {
          "base_uri": "https://localhost:8080/",
          "height": 50
        }
      },
      "source": [
        "print(' A quantidade média de navios na fila do porto éde %.f navios \\n',NF)\n",
        " "
      ],
      "execution_count": null,
      "outputs": [
        {
          "output_type": "stream",
          "text": [
            " A quantidade média de navios na fila do porto éde %.f navios \n",
            " 0.25\n"
          ],
          "name": "stdout"
        }
      ]
    },
    {
      "cell_type": "code",
      "metadata": {
        "id": "09G5Cq-kT2zA"
      },
      "source": [
        "#c) Qual é a quantidade média de navios no sistema portuário?\n"
      ],
      "execution_count": null,
      "outputs": []
    },
    {
      "cell_type": "code",
      "metadata": {
        "id": "rQNyPFWWT6r1",
        "outputId": "2d9cf53b-2bb6-4405-ee69-ee25aa9ade9e",
        "colab": {
          "base_uri": "https://localhost:8080/",
          "height": 50
        }
      },
      "source": [
        "print(' A quantidade média de navios no sistema portuário é de %.2f navios \\n',NS)\n"
      ],
      "execution_count": null,
      "outputs": [
        {
          "output_type": "stream",
          "text": [
            " A quantidade média de navios no sistema portuário é de %.2f navios \n",
            " 3.0\n"
          ],
          "name": "stdout"
        }
      ]
    },
    {
      "cell_type": "code",
      "metadata": {
        "id": "eucHJpc5UQo8"
      },
      "source": [
        "# d)Qual é a quantidade média de navios utilizando oporto?\n",
        " "
      ],
      "execution_count": null,
      "outputs": []
    },
    {
      "cell_type": "code",
      "metadata": {
        "id": "LZ5_3BpbUaAK"
      },
      "source": [
        "NP=NS-NF;"
      ],
      "execution_count": null,
      "outputs": []
    },
    {
      "cell_type": "code",
      "metadata": {
        "id": "zEvpnuIuUb_s",
        "outputId": "ab43ae7f-5aec-4fbb-9164-67e2426e0d9d",
        "colab": {
          "base_uri": "https://localhost:8080/",
          "height": 50
        }
      },
      "source": [
        " print(' A quantidade de navios utilizando o porto é %.2f navios \\n',NP)\n"
      ],
      "execution_count": null,
      "outputs": [
        {
          "output_type": "stream",
          "text": [
            " A quantidade de navios utilizando o porto é %.2f navios \n",
            " 2.75\n"
          ],
          "name": "stdout"
        }
      ]
    },
    {
      "cell_type": "code",
      "metadata": {
        "id": "ZD2ja7l3Ufja"
      },
      "source": [
        ""
      ],
      "execution_count": null,
      "outputs": []
    }
  ]
}